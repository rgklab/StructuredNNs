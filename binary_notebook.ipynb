{
 "cells": [
  {
   "cell_type": "code",
   "execution_count": 1,
   "metadata": {},
   "outputs": [
    {
     "data": {
      "text/plain": [
       "'c:\\\\Users\\\\Ben\\\\Documents\\\\C_Python\\\\AML\\\\StrNN-M\\\\StructuredNNs'"
      ]
     },
     "execution_count": 1,
     "metadata": {},
     "output_type": "execute_result"
    }
   ],
   "source": [
    "import os\n",
    "os.getcwd()"
   ]
  },
  {
   "cell_type": "code",
   "execution_count": 2,
   "metadata": {},
   "outputs": [
    {
     "data": {
      "text/plain": [
       "'c:\\\\Users\\\\Ben\\\\Documents\\\\C_Python\\\\AML\\\\StrNN-M\\\\StructuredNNs'"
      ]
     },
     "execution_count": 2,
     "metadata": {},
     "output_type": "execute_result"
    }
   ],
   "source": [
    "os.getcwd()\n",
    "# dir1 = os.getcwd()\n",
    "# pwd"
   ]
  },
  {
   "cell_type": "code",
   "execution_count": 3,
   "metadata": {},
   "outputs": [],
   "source": [
    "import wandb\n",
    "\n",
    "from strnn.models.strNN import StrNN"
   ]
  },
  {
   "cell_type": "code",
   "execution_count": null,
   "metadata": {},
   "outputs": [],
   "source": [
    "import torch\n",
    "import numpy as np\n",
    "\n",
    "from torch.optim import Optimizer\n",
    "from torch.utils.data import DataLoader\n",
    "\n",
    "\n",
    "device = torch.device(\"cuda:0\" if torch.cuda.is_available() else \"cpu\")"
   ]
  },
  {
   "cell_type": "code",
   "execution_count": null,
   "metadata": {},
   "outputs": [],
   "source": []
  },
  {
   "cell_type": "code",
   "execution_count": null,
   "metadata": {},
   "outputs": [],
   "source": [
    "def load_data_and_adj_mtx(dataset_name, adj_mtx_name):\n",
    "    \"\"\"\n",
    "    Load train and val splits of specified data and\n",
    "    associated adjacency matrix\n",
    "    \"\"\"\n",
    "    # Load adjacency matrix\n",
    "    if adj_mtx_name != \"None\":\n",
    "        adj_mtx_path = f\"./synth_data_files/{adj_mtx_name}.npz\"\n",
    "        adj_mtx = np.load(adj_mtx_path)\n",
    "        adj_mtx = adj_mtx[adj_mtx.files[0]]\n",
    "    else:\n",
    "        adj_mtx = None\n",
    "\n",
    "    # Load data\n",
    "    data_path = f\"./synth_data_files/{dataset_name}.npz\"\n",
    "    data = np.load(data_path)\n",
    "    train_data = data['train_data'].astype(np.float32)\n",
    "    val_data = data['valid_data'].astype(np.float32)\n",
    "    train_data = torch.from_numpy(train_data).to(device)\n",
    "    val_data = torch.from_numpy(val_data).to(device)\n",
    "\n",
    "    return train_data, val_data, adj_mtx\n",
    "\n",
    "\n",
    "def train_loop(\n",
    "    model: StrNN,\n",
    "    optimizer: Optimizer,\n",
    "    train_dl: DataLoader,\n",
    "    val_dl: DataLoader,\n",
    "    max_epoch: int,\n",
    "    patience: int\n",
    ") -> dict | None:\n",
    "    \"\"\"\n",
    "    @param model\n",
    "    @param optimizer\n",
    "    @param train_dl: training data loader\n",
    "    @param val_dl: validation data loader\n",
    "    @param max_epoch: maximum epoch allowed for training\n",
    "    @param patience: max number of epochs without validation loss\n",
    "            improvement before terminating\n",
    "    @return: dict of best model state\n",
    "    \"\"\"\n",
    "    best_model_state = None\n",
    "    best_val = None\n",
    "    counter = 0\n",
    "\n",
    "    for epoch in range(1, max_epoch):\n",
    "        train_losses = []\n",
    "        val_losses = []\n",
    "\n",
    "        for batch in train_dl:\n",
    "            # Training step\n",
    "            optimizer.zero_grad()\n",
    "            x = batch\n",
    "            x_hat, loss = model.get_preds_loss(x)\n",
    "            train_loss = loss.item()\n",
    "\n",
    "            loss.backward()\n",
    "            optimizer.step()\n",
    "\n",
    "            train_losses.append(train_loss)\n",
    "\n",
    "        # Validation step\n",
    "        with torch.no_grad():\n",
    "            for batch in val_dl:\n",
    "                x = batch\n",
    "                x_hat, loss = model.get_preds_loss(x)\n",
    "                val_loss = loss.item()\n",
    "                val_losses.append(val_loss)\n",
    "\n",
    "            epoch_train_loss = np.mean(train_losses)\n",
    "            epoch_val_loss = np.mean(val_losses)\n",
    "\n",
    "            # TODO: Add scheduler\n",
    "\n",
    "            # wandb logging\n",
    "            wandb.log({\n",
    "                \"train_loss\": epoch_train_loss,\n",
    "                \"val_loss\": epoch_val_loss\n",
    "            })\n",
    "\n",
    "            if best_val is None or epoch_val_loss < best_val:\n",
    "                best_val = epoch_val_loss\n",
    "                best_model_state = model.state_dict()\n",
    "                counter = 0 # Reset counter since we beat best loss so far\n",
    "            else:\n",
    "                counter += 1\n",
    "                if counter > patience:\n",
    "                    return best_model_state\n",
    "\n",
    "    return best_model_state"
   ]
  },
  {
   "cell_type": "code",
   "execution_count": null,
   "metadata": {},
   "outputs": [],
   "source": []
  }
 ],
 "metadata": {
  "kernelspec": {
   "display_name": "StrN_RefacPL",
   "language": "python",
   "name": "python3"
  },
  "language_info": {
   "codemirror_mode": {
    "name": "ipython",
    "version": 3
   },
   "file_extension": ".py",
   "mimetype": "text/x-python",
   "name": "python",
   "nbconvert_exporter": "python",
   "pygments_lexer": "ipython3",
   "version": "3.11.8"
  }
 },
 "nbformat": 4,
 "nbformat_minor": 2
}
